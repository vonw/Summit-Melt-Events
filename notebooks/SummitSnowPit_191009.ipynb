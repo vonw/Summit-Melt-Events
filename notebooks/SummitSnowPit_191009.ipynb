{
 "cells": [
  {
   "cell_type": "code",
   "execution_count": 6,
   "metadata": {},
   "outputs": [],
   "source": [
    "import numpy  as np\n",
    "import pandas as pd\n",
    "import hvplot.pandas"
   ]
  },
  {
   "cell_type": "code",
   "execution_count": 47,
   "metadata": {},
   "outputs": [],
   "source": [
    "guyPit = pd.DataFrame({'depth': np.array([-0.090, -0.160, -0.180, -0.205, -0.230, -0.240, -0.270, -0.300, -0.360, -0.390, -0.435, -0.460, -0.525, -0.630, -0.680, -0.755, -0.910, -0.940, -1.020]),\n",
    "                       'density': np.array([258.3, 230.6, 252.8, 227.8, 172.2, 152.8, 241.7, 283.3, 291.7, 222.2, 280.6, 366.7, 183.3, 300.0, 327.8, 216.7, 369.4, 244.4, 308.3])})"
   ]
  },
  {
   "cell_type": "code",
   "execution_count": 48,
   "metadata": {},
   "outputs": [
    {
     "data": {},
     "metadata": {},
     "output_type": "display_data"
    },
    {
     "data": {
      "application/vnd.holoviews_exec.v0+json": "",
      "text/html": [
       "<div id='4892'>\n",
       "\n",
       "\n",
       "\n",
       "\n",
       "\n",
       "  <div class=\"bk-root\" id=\"022c0ebd-0978-4dfb-940c-7db4dd4bb050\" data-root-id=\"4892\"></div>\n",
       "</div>\n",
       "<script type=\"application/javascript\">(function(root) {\n",
       "  function embed_document(root) {\n",
       "  var docs_json = {\"c413ca3e-c9d4-4934-b211-cef7389f69e6\":{\"roots\":{\"references\":[{\"attributes\":{},\"id\":\"4954\",\"type\":\"UnionRenderers\"},{\"attributes\":{\"line_alpha\":0.2,\"line_color\":\"#1f77b3\",\"line_width\":2,\"x\":{\"field\":\"density\"},\"y\":{\"field\":\"depth\"}},\"id\":\"4937\",\"type\":\"Line\"},{\"attributes\":{\"source\":{\"id\":\"4940\"}},\"id\":\"4947\",\"type\":\"CDSView\"},{\"attributes\":{\"axis\":{\"id\":\"4907\"},\"grid_line_color\":null,\"ticker\":null},\"id\":\"4910\",\"type\":\"Grid\"},{\"attributes\":{},\"id\":\"4908\",\"type\":\"BasicTicker\"},{\"attributes\":{\"align\":null,\"below\":[{\"id\":\"4907\"}],\"center\":[{\"id\":\"4910\"},{\"id\":\"4914\"}],\"left\":[{\"id\":\"4911\"}],\"margin\":null,\"min_border_bottom\":10,\"min_border_left\":10,\"min_border_right\":10,\"min_border_top\":10,\"plot_height\":500,\"plot_width\":300,\"renderers\":[{\"id\":\"4938\"},{\"id\":\"4946\"}],\"sizing_mode\":\"fixed\",\"title\":{\"id\":\"4899\"},\"toolbar\":{\"id\":\"4921\"},\"x_range\":{\"id\":\"4894\"},\"x_scale\":{\"id\":\"4903\"},\"y_range\":{\"id\":\"4895\"},\"y_scale\":{\"id\":\"4905\"}},\"id\":\"4898\",\"subtype\":\"Figure\",\"type\":\"Plot\"},{\"attributes\":{\"active_drag\":\"auto\",\"active_inspect\":\"auto\",\"active_multi\":null,\"active_scroll\":\"auto\",\"active_tap\":\"auto\",\"tools\":[{\"id\":\"4896\"},{\"id\":\"4915\"},{\"id\":\"4916\"},{\"id\":\"4917\"},{\"id\":\"4918\"},{\"id\":\"4919\"}]},\"id\":\"4921\",\"type\":\"Toolbar\"},{\"attributes\":{\"data_source\":{\"id\":\"4932\"},\"glyph\":{\"id\":\"4935\"},\"hover_glyph\":null,\"muted_glyph\":{\"id\":\"4937\"},\"nonselection_glyph\":{\"id\":\"4936\"},\"selection_glyph\":null,\"view\":{\"id\":\"4939\"}},\"id\":\"4938\",\"type\":\"GlyphRenderer\"},{\"attributes\":{\"axis_label\":\"depth\",\"bounds\":\"auto\",\"formatter\":{\"id\":\"4930\"},\"major_label_orientation\":\"horizontal\",\"ticker\":{\"id\":\"4912\"}},\"id\":\"4911\",\"type\":\"LinearAxis\"},{\"attributes\":{\"text\":\"Snow pit from Summit Station\\n Heather Guy, 19 October 2019\",\"text_color\":{\"value\":\"black\"},\"text_font_size\":{\"value\":\"12pt\"}},\"id\":\"4899\",\"type\":\"Title\"},{\"attributes\":{\"end\":369.4,\"reset_end\":369.4,\"reset_start\":152.8,\"start\":152.8,\"tags\":[[[\"density\",\"density\",null]]]},\"id\":\"4894\",\"type\":\"Range1d\"},{\"attributes\":{\"data\":{\"density\":{\"__ndarray__\":\"zczMzMwkcEAzMzMzM9NsQJqZmZmZmW9AmpmZmZl5bEBmZmZmZoZlQJqZmZmZGWNAZmZmZmY2bkDNzMzMzLRxQDMzMzMzO3JAZmZmZmbGa0CamZmZmYlxQDMzMzMz63ZAmpmZmZnpZkAAAAAAAMByQM3MzMzMfHRAZmZmZmYWa0BmZmZmZhZ3QM3MzMzMjG5AzczMzMxEc0A=\",\"dtype\":\"float64\",\"order\":\"little\",\"shape\":[19]},\"depth\":{\"__ndarray__\":\"CtejcD0Kt797FK5H4XrEvwrXo3A9Cse/PQrXo3A9yr9xPQrXo3DNv7gehetRuM6/SOF6FK5H0b8zMzMzMzPTvwrXo3A9Cte/9ihcj8L12L/Xo3A9Ctfbv3E9CtejcN2/zczMzMzM4L8pXI/C9Sjkv8P1KFyPwuW/KVyPwvUo6L8fhetRuB7tvxSuR+F6FO6/UrgehetR8L8=\",\"dtype\":\"float64\",\"order\":\"little\",\"shape\":[19]}},\"selected\":{\"id\":\"4933\"},\"selection_policy\":{\"id\":\"4954\"}},\"id\":\"4932\",\"type\":\"ColumnDataSource\"},{\"attributes\":{},\"id\":\"4919\",\"type\":\"ResetTool\"},{\"attributes\":{\"bottom_units\":\"screen\",\"fill_alpha\":0.5,\"fill_color\":\"lightgrey\",\"left_units\":\"screen\",\"level\":\"overlay\",\"line_alpha\":1.0,\"line_color\":\"black\",\"line_dash\":[4,4],\"line_width\":2,\"right_units\":\"screen\",\"top_units\":\"screen\"},\"id\":\"4920\",\"type\":\"BoxAnnotation\"},{\"attributes\":{},\"id\":\"4916\",\"type\":\"PanTool\"},{\"attributes\":{\"margin\":[5,5,5,5],\"name\":\"HSpacer10333\",\"sizing_mode\":\"stretch_width\"},\"id\":\"4893\",\"type\":\"Spacer\"},{\"attributes\":{\"line_color\":\"#1f77b3\",\"line_width\":2,\"x\":{\"field\":\"density\"},\"y\":{\"field\":\"depth\"}},\"id\":\"4935\",\"type\":\"Line\"},{\"attributes\":{},\"id\":\"4956\",\"type\":\"UnionRenderers\"},{\"attributes\":{},\"id\":\"4941\",\"type\":\"Selection\"},{\"attributes\":{},\"id\":\"4917\",\"type\":\"WheelZoomTool\"},{\"attributes\":{},\"id\":\"4905\",\"type\":\"LinearScale\"},{\"attributes\":{},\"id\":\"4933\",\"type\":\"Selection\"},{\"attributes\":{\"children\":[{\"id\":\"4893\"},{\"id\":\"4898\"},{\"id\":\"5038\"}],\"margin\":[0,0,0,0],\"name\":\"Row10329\",\"tags\":[\"embedded\"]},\"id\":\"4892\",\"type\":\"Row\"},{\"attributes\":{},\"id\":\"4912\",\"type\":\"BasicTicker\"},{\"attributes\":{\"axis_label\":\"density\",\"bounds\":\"auto\",\"formatter\":{\"id\":\"4928\"},\"major_label_orientation\":\"horizontal\",\"ticker\":{\"id\":\"4908\"}},\"id\":\"4907\",\"type\":\"LinearAxis\"},{\"attributes\":{\"fill_color\":{\"value\":\"darkblue\"},\"line_color\":{\"value\":\"darkblue\"},\"size\":{\"units\":\"screen\",\"value\":6.324555320336759},\"x\":{\"field\":\"density\"},\"y\":{\"field\":\"depth\"}},\"id\":\"4943\",\"type\":\"Scatter\"},{\"attributes\":{\"line_alpha\":0.1,\"line_color\":\"#1f77b3\",\"line_width\":2,\"x\":{\"field\":\"density\"},\"y\":{\"field\":\"depth\"}},\"id\":\"4936\",\"type\":\"Line\"},{\"attributes\":{\"end\":-0.034199999999999994,\"reset_end\":-0.034199999999999994,\"reset_start\":-1.0758,\"start\":-1.0758,\"tags\":[[[\"depth\",\"depth\",null]]]},\"id\":\"4895\",\"type\":\"Range1d\"},{\"attributes\":{\"callback\":null,\"renderers\":[{\"id\":\"4938\"},{\"id\":\"4946\"}],\"tags\":[\"hv_created\"],\"tooltips\":[[\"density\",\"@{density}\"],[\"depth\",\"@{depth}\"]]},\"id\":\"4896\",\"type\":\"HoverTool\"},{\"attributes\":{\"margin\":[5,5,5,5],\"name\":\"HSpacer10334\",\"sizing_mode\":\"stretch_width\"},\"id\":\"5038\",\"type\":\"Spacer\"},{\"attributes\":{},\"id\":\"4930\",\"type\":\"BasicTickFormatter\"},{\"attributes\":{},\"id\":\"4903\",\"type\":\"LinearScale\"},{\"attributes\":{\"data\":{\"density\":{\"__ndarray__\":\"zczMzMwkcEAzMzMzM9NsQJqZmZmZmW9AmpmZmZl5bEBmZmZmZoZlQJqZmZmZGWNAZmZmZmY2bkDNzMzMzLRxQDMzMzMzO3JAZmZmZmbGa0CamZmZmYlxQDMzMzMz63ZAmpmZmZnpZkAAAAAAAMByQM3MzMzMfHRAZmZmZmYWa0BmZmZmZhZ3QM3MzMzMjG5AzczMzMxEc0A=\",\"dtype\":\"float64\",\"order\":\"little\",\"shape\":[19]},\"depth\":{\"__ndarray__\":\"CtejcD0Kt797FK5H4XrEvwrXo3A9Cse/PQrXo3A9yr9xPQrXo3DNv7gehetRuM6/SOF6FK5H0b8zMzMzMzPTvwrXo3A9Cte/9ihcj8L12L/Xo3A9Ctfbv3E9CtejcN2/zczMzMzM4L8pXI/C9Sjkv8P1KFyPwuW/KVyPwvUo6L8fhetRuB7tvxSuR+F6FO6/UrgehetR8L8=\",\"dtype\":\"float64\",\"order\":\"little\",\"shape\":[19]}},\"selected\":{\"id\":\"4941\"},\"selection_policy\":{\"id\":\"4956\"}},\"id\":\"4940\",\"type\":\"ColumnDataSource\"},{\"attributes\":{\"overlay\":{\"id\":\"4920\"}},\"id\":\"4918\",\"type\":\"BoxZoomTool\"},{\"attributes\":{},\"id\":\"4915\",\"type\":\"SaveTool\"},{\"attributes\":{},\"id\":\"4928\",\"type\":\"BasicTickFormatter\"},{\"attributes\":{\"fill_alpha\":{\"value\":0.1},\"fill_color\":{\"value\":\"darkblue\"},\"line_alpha\":{\"value\":0.1},\"line_color\":{\"value\":\"darkblue\"},\"size\":{\"units\":\"screen\",\"value\":6.324555320336759},\"x\":{\"field\":\"density\"},\"y\":{\"field\":\"depth\"}},\"id\":\"4944\",\"type\":\"Scatter\"},{\"attributes\":{\"axis\":{\"id\":\"4911\"},\"dimension\":1,\"grid_line_color\":null,\"ticker\":null},\"id\":\"4914\",\"type\":\"Grid\"},{\"attributes\":{\"data_source\":{\"id\":\"4940\"},\"glyph\":{\"id\":\"4943\"},\"hover_glyph\":null,\"muted_glyph\":{\"id\":\"4945\"},\"nonselection_glyph\":{\"id\":\"4944\"},\"selection_glyph\":null,\"view\":{\"id\":\"4947\"}},\"id\":\"4946\",\"type\":\"GlyphRenderer\"},{\"attributes\":{\"source\":{\"id\":\"4932\"}},\"id\":\"4939\",\"type\":\"CDSView\"},{\"attributes\":{\"fill_alpha\":{\"value\":0.2},\"fill_color\":{\"value\":\"darkblue\"},\"line_alpha\":{\"value\":0.2},\"line_color\":{\"value\":\"darkblue\"},\"size\":{\"units\":\"screen\",\"value\":6.324555320336759},\"x\":{\"field\":\"density\"},\"y\":{\"field\":\"depth\"}},\"id\":\"4945\",\"type\":\"Scatter\"}],\"root_ids\":[\"4892\"]},\"title\":\"Bokeh Application\",\"version\":\"2.1.1\"}};\n",
       "  var render_items = [{\"docid\":\"c413ca3e-c9d4-4934-b211-cef7389f69e6\",\"root_ids\":[\"4892\"],\"roots\":{\"4892\":\"022c0ebd-0978-4dfb-940c-7db4dd4bb050\"}}];\n",
       "  root.Bokeh.embed.embed_items_notebook(docs_json, render_items);\n",
       "  }\n",
       "if (root.Bokeh !== undefined) {\n",
       "    embed_document(root);\n",
       "  } else {\n",
       "    var attempts = 0;\n",
       "    var timer = setInterval(function(root) {\n",
       "      if (root.Bokeh !== undefined) {\n",
       "        clearInterval(timer);\n",
       "        embed_document(root);\n",
       "      } else if (document.readyState == \"complete\") {\n",
       "        attempts++;\n",
       "        if (attempts > 100) {\n",
       "          clearInterval(timer);\n",
       "          console.log(\"Bokeh: ERROR: Unable to run BokehJS code because BokehJS library is missing\");\n",
       "        }\n",
       "      }\n",
       "    }, 10, root)\n",
       "  }\n",
       "})(window);</script>"
      ],
      "text/plain": [
       ":Overlay\n",
       "   .Curve.I   :Curve   [density]   (depth)\n",
       "   .Scatter.I :Scatter   [density]   (depth)"
      ]
     },
     "execution_count": 48,
     "metadata": {
      "application/vnd.holoviews_exec.v0+json": {
       "id": "4892"
      }
     },
     "output_type": "execute_result"
    }
   ],
   "source": [
    "guyPit.hvplot(x='density', y='depth', width=300, height=500) * guyPit.hvplot.scatter(x='density', y='depth', width=300, height=500, color='darkblue', size=40).opts(title=\"Snow pit from Summit Station\\n Heather Guy, 19 October 2019\")"
   ]
  },
  {
   "cell_type": "code",
   "execution_count": 49,
   "metadata": {},
   "outputs": [
    {
     "data": {
      "text/plain": [
       "259.5052631578947"
      ]
     },
     "execution_count": 49,
     "metadata": {},
     "output_type": "execute_result"
    }
   ],
   "source": [
    "density.mean()"
   ]
  },
  {
   "cell_type": "markdown",
   "metadata": {},
   "source": [
    "### Measurements near Summit Station by Tedesco and Marshall (2010)"
   ]
  },
  {
   "cell_type": "code",
   "execution_count": 50,
   "metadata": {},
   "outputs": [],
   "source": [
    "tm2010 = pd.read_csv('/Users/vonw/work/projects/icecaps/analysis/Summit-Melt-Events/data/TedescoAndMarshall_2010/Tedesco_and_Marshall_SummitSnowDensity_ArcticDataCenter.csv')"
   ]
  },
  {
   "cell_type": "code",
   "execution_count": 62,
   "metadata": {},
   "outputs": [],
   "source": [
    "tmPit = pd.DataFrame({'depth': tm2010.iloc[102:]['Start depth (m from surface)']*-1, 'density': tm2010.iloc[102:]['Density (g/cm^3)']*1000})"
   ]
  },
  {
   "cell_type": "code",
   "execution_count": 63,
   "metadata": {},
   "outputs": [
    {
     "data": {},
     "metadata": {},
     "output_type": "display_data"
    },
    {
     "data": {
      "application/vnd.holoviews_exec.v0+json": "",
      "text/html": [
       "<div id='6031'>\n",
       "\n",
       "\n",
       "\n",
       "\n",
       "\n",
       "  <div class=\"bk-root\" id=\"1200d0e1-8f4d-4ce1-b29d-3957814b9f5a\" data-root-id=\"6031\"></div>\n",
       "</div>\n",
       "<script type=\"application/javascript\">(function(root) {\n",
       "  function embed_document(root) {\n",
       "  var docs_json = {\"9ee45e82-dfa0-48e9-b253-3f8704dafa58\":{\"roots\":{\"references\":[{\"attributes\":{\"source\":{\"id\":\"6080\"}},\"id\":\"6087\",\"type\":\"CDSView\"},{\"attributes\":{\"end\":439.0,\"reset_end\":439.0,\"reset_start\":152.8,\"start\":152.8,\"tags\":[[[\"density\",\"density\",null]]]},\"id\":\"6033\",\"type\":\"Range1d\"},{\"attributes\":{},\"id\":\"6057\",\"type\":\"WheelZoomTool\"},{\"attributes\":{\"fill_color\":{\"value\":\"#ff7e0e\"},\"line_color\":{\"value\":\"#ff7e0e\"},\"size\":{\"units\":\"screen\",\"value\":5.477225575051661},\"x\":{\"field\":\"density\"},\"y\":{\"field\":\"depth\"}},\"id\":\"6091\",\"type\":\"Scatter\"},{\"attributes\":{},\"id\":\"6052\",\"type\":\"BasicTicker\"},{\"attributes\":{\"data_source\":{\"id\":\"6088\"},\"glyph\":{\"id\":\"6091\"},\"hover_glyph\":null,\"muted_glyph\":{\"id\":\"6093\"},\"nonselection_glyph\":{\"id\":\"6092\"},\"selection_glyph\":null,\"view\":{\"id\":\"6095\"}},\"id\":\"6094\",\"type\":\"GlyphRenderer\"},{\"attributes\":{\"line_alpha\":0.1,\"line_color\":\"#1f77b3\",\"line_width\":2,\"x\":{\"field\":\"density\"},\"y\":{\"field\":\"depth\"}},\"id\":\"6076\",\"type\":\"Line\"},{\"attributes\":{\"data\":{\"density\":{\"__ndarray__\":\"zczMzMwkcEAzMzMzM9NsQJqZmZmZmW9AmpmZmZl5bEBmZmZmZoZlQJqZmZmZGWNAZmZmZmY2bkDNzMzMzLRxQDMzMzMzO3JAZmZmZmbGa0CamZmZmYlxQDMzMzMz63ZAmpmZmZnpZkAAAAAAAMByQM3MzMzMfHRAZmZmZmYWa0BmZmZmZhZ3QM3MzMzMjG5AzczMzMxEc0A=\",\"dtype\":\"float64\",\"order\":\"little\",\"shape\":[19]},\"depth\":{\"__ndarray__\":\"CtejcD0Kt797FK5H4XrEvwrXo3A9Cse/PQrXo3A9yr9xPQrXo3DNv7gehetRuM6/SOF6FK5H0b8zMzMzMzPTvwrXo3A9Cte/9ihcj8L12L/Xo3A9Ctfbv3E9CtejcN2/zczMzMzM4L8pXI/C9Sjkv8P1KFyPwuW/KVyPwvUo6L8fhetRuB7tvxSuR+F6FO6/UrgehetR8L8=\",\"dtype\":\"float64\",\"order\":\"little\",\"shape\":[19]}},\"selected\":{\"id\":\"6081\"},\"selection_policy\":{\"id\":\"6104\"}},\"id\":\"6080\",\"type\":\"ColumnDataSource\"},{\"attributes\":{\"active_drag\":\"auto\",\"active_inspect\":\"auto\",\"active_multi\":null,\"active_scroll\":\"auto\",\"active_tap\":\"auto\",\"tools\":[{\"id\":\"6035\"},{\"id\":\"6055\"},{\"id\":\"6056\"},{\"id\":\"6057\"},{\"id\":\"6058\"},{\"id\":\"6059\"}]},\"id\":\"6061\",\"type\":\"Toolbar\"},{\"attributes\":{},\"id\":\"6068\",\"type\":\"BasicTickFormatter\"},{\"attributes\":{\"source\":{\"id\":\"6072\"}},\"id\":\"6079\",\"type\":\"CDSView\"},{\"attributes\":{\"source\":{\"id\":\"6088\"}},\"id\":\"6095\",\"type\":\"CDSView\"},{\"attributes\":{\"line_color\":\"#1f77b3\",\"line_width\":2,\"x\":{\"field\":\"density\"},\"y\":{\"field\":\"depth\"}},\"id\":\"6075\",\"type\":\"Line\"},{\"attributes\":{},\"id\":\"6056\",\"type\":\"PanTool\"},{\"attributes\":{\"align\":null,\"below\":[{\"id\":\"6047\"}],\"center\":[{\"id\":\"6050\"},{\"id\":\"6054\"}],\"left\":[{\"id\":\"6051\"}],\"margin\":null,\"min_border_bottom\":10,\"min_border_left\":10,\"min_border_right\":10,\"min_border_top\":10,\"plot_height\":500,\"plot_width\":300,\"renderers\":[{\"id\":\"6078\"},{\"id\":\"6086\"},{\"id\":\"6094\"}],\"sizing_mode\":\"fixed\",\"title\":{\"id\":\"6039\"},\"toolbar\":{\"id\":\"6061\"},\"x_range\":{\"id\":\"6033\"},\"x_scale\":{\"id\":\"6043\"},\"y_range\":{\"id\":\"6034\"},\"y_scale\":{\"id\":\"6045\"}},\"id\":\"6038\",\"subtype\":\"Figure\",\"type\":\"Plot\"},{\"attributes\":{},\"id\":\"6045\",\"type\":\"LinearScale\"},{\"attributes\":{\"data_source\":{\"id\":\"6072\"},\"glyph\":{\"id\":\"6075\"},\"hover_glyph\":null,\"muted_glyph\":{\"id\":\"6077\"},\"nonselection_glyph\":{\"id\":\"6076\"},\"selection_glyph\":null,\"view\":{\"id\":\"6079\"}},\"id\":\"6078\",\"type\":\"GlyphRenderer\"},{\"attributes\":{\"data\":{\"density\":{\"__ndarray__\":\"///////vd0ABAAAAAKB2QAAAAAAAsHhAAQAAAADAeUAAAAAAAHB7QAAAAAAAcHhAAAAAAACwd0AAAAAAANB3QP//////j3RAAAAAAADgdUAAAAAAAIB4QAAAAAAAUHdAAAAAAACQdkD//////593QAAAAAAAcHVAAAAAAABAc0AAAAAAAIBzQAAAAAAAIHZAAAAAAADgdkABAAAAAKB1QAAAAAAAgHVAAAAAAADAckAAAAAAABB2QP//////L3lAAAAAAACQd0AAAAAAANB1QAEAAAAAsHVAAAAAAADgd0D//////x91QAAAAAAAAHRAAAAAAADgdkAAAAAAAEB1QP//////L3RAAAAAAACwc0ABAAAAALBxQAAAAAAAYHVAAAAAAAAgdkD//////593QAAAAAAAIHRAAAAAAABQdEA=\",\"dtype\":\"float64\",\"order\":\"little\",\"shape\":[40]},\"depth\":{\"__ndarray__\":\"AAAAAAAAAICamZmZmZm5v5qZmZmZmcm/MzMzMzMz07+amZmZmZnZvwAAAAAAAOC/MzMzMzMz479mZmZmZmbmv5qZmZmZmem/zczMzMzM7L8AAAAAAADwv5qZmZmZmfG/MzMzMzMz87/NzMzMzMz0v2ZmZmZmZva/AAAAAAAA+L+amZmZmZn5vzMzMzMzM/u/zczMzMzM/L9mZmZmZmb+vwAAAAAAAADAzczMzMzMAMCamZmZmZkBwGZmZmZmZgLAMzMzMzMzA8AAAAAAAAAEwM3MzMzMzATAmpmZmZmZBcBmZmZmZmYGwDMzMzMzMwfAAAAAAAAACMDNzMzMzMwIwJqZmZmZmQnAZmZmZmZmCsAzMzMzMzMLwAAAAAAAAAzAzczMzMzMDMCamZmZmZkNwGZmZmZmZg7AMzMzMzMzD8A=\",\"dtype\":\"float64\",\"order\":\"little\",\"shape\":[40]}},\"selected\":{\"id\":\"6089\"},\"selection_policy\":{\"id\":\"6106\"}},\"id\":\"6088\",\"type\":\"ColumnDataSource\"},{\"attributes\":{\"fill_alpha\":{\"value\":0.1},\"fill_color\":{\"value\":\"#ff7e0e\"},\"line_alpha\":{\"value\":0.1},\"line_color\":{\"value\":\"#ff7e0e\"},\"size\":{\"units\":\"screen\",\"value\":5.477225575051661},\"x\":{\"field\":\"density\"},\"y\":{\"field\":\"depth\"}},\"id\":\"6092\",\"type\":\"Scatter\"},{\"attributes\":{\"end\":0.23399999999999999,\"reset_end\":0.23399999999999999,\"reset_start\":-4.134,\"start\":-4.134,\"tags\":[[[\"depth\",\"depth\",null]]]},\"id\":\"6034\",\"type\":\"Range1d\"},{\"attributes\":{\"line_alpha\":0.2,\"line_color\":\"#1f77b3\",\"line_width\":2,\"x\":{\"field\":\"density\"},\"y\":{\"field\":\"depth\"}},\"id\":\"6077\",\"type\":\"Line\"},{\"attributes\":{},\"id\":\"6106\",\"type\":\"UnionRenderers\"},{\"attributes\":{\"text\":\"Snow pit from Summit Station\\n Heather Guy, 19 October 2019\",\"text_color\":{\"value\":\"black\"},\"text_font_size\":{\"value\":\"12pt\"}},\"id\":\"6039\",\"type\":\"Title\"},{\"attributes\":{\"margin\":[5,5,5,5],\"name\":\"HSpacer13505\",\"sizing_mode\":\"stretch_width\"},\"id\":\"6032\",\"type\":\"Spacer\"},{\"attributes\":{\"axis\":{\"id\":\"6051\"},\"dimension\":1,\"grid_line_color\":null,\"ticker\":null},\"id\":\"6054\",\"type\":\"Grid\"},{\"attributes\":{\"fill_alpha\":{\"value\":0.1},\"fill_color\":{\"value\":\"darkblue\"},\"line_alpha\":{\"value\":0.1},\"line_color\":{\"value\":\"darkblue\"},\"size\":{\"units\":\"screen\",\"value\":6.324555320336759},\"x\":{\"field\":\"density\"},\"y\":{\"field\":\"depth\"}},\"id\":\"6084\",\"type\":\"Scatter\"},{\"attributes\":{\"data\":{\"density\":{\"__ndarray__\":\"zczMzMwkcEAzMzMzM9NsQJqZmZmZmW9AmpmZmZl5bEBmZmZmZoZlQJqZmZmZGWNAZmZmZmY2bkDNzMzMzLRxQDMzMzMzO3JAZmZmZmbGa0CamZmZmYlxQDMzMzMz63ZAmpmZmZnpZkAAAAAAAMByQM3MzMzMfHRAZmZmZmYWa0BmZmZmZhZ3QM3MzMzMjG5AzczMzMxEc0A=\",\"dtype\":\"float64\",\"order\":\"little\",\"shape\":[19]},\"depth\":{\"__ndarray__\":\"CtejcD0Kt797FK5H4XrEvwrXo3A9Cse/PQrXo3A9yr9xPQrXo3DNv7gehetRuM6/SOF6FK5H0b8zMzMzMzPTvwrXo3A9Cte/9ihcj8L12L/Xo3A9Ctfbv3E9CtejcN2/zczMzMzM4L8pXI/C9Sjkv8P1KFyPwuW/KVyPwvUo6L8fhetRuB7tvxSuR+F6FO6/UrgehetR8L8=\",\"dtype\":\"float64\",\"order\":\"little\",\"shape\":[19]}},\"selected\":{\"id\":\"6073\"},\"selection_policy\":{\"id\":\"6102\"}},\"id\":\"6072\",\"type\":\"ColumnDataSource\"},{\"attributes\":{\"fill_alpha\":{\"value\":0.2},\"fill_color\":{\"value\":\"darkblue\"},\"line_alpha\":{\"value\":0.2},\"line_color\":{\"value\":\"darkblue\"},\"size\":{\"units\":\"screen\",\"value\":6.324555320336759},\"x\":{\"field\":\"density\"},\"y\":{\"field\":\"depth\"}},\"id\":\"6085\",\"type\":\"Scatter\"},{\"attributes\":{\"data_source\":{\"id\":\"6080\"},\"glyph\":{\"id\":\"6083\"},\"hover_glyph\":null,\"muted_glyph\":{\"id\":\"6085\"},\"nonselection_glyph\":{\"id\":\"6084\"},\"selection_glyph\":null,\"view\":{\"id\":\"6087\"}},\"id\":\"6086\",\"type\":\"GlyphRenderer\"},{\"attributes\":{},\"id\":\"6104\",\"type\":\"UnionRenderers\"},{\"attributes\":{},\"id\":\"6048\",\"type\":\"BasicTicker\"},{\"attributes\":{},\"id\":\"6070\",\"type\":\"BasicTickFormatter\"},{\"attributes\":{},\"id\":\"6073\",\"type\":\"Selection\"},{\"attributes\":{\"margin\":[5,5,5,5],\"name\":\"HSpacer13506\",\"sizing_mode\":\"stretch_width\"},\"id\":\"6204\",\"type\":\"Spacer\"},{\"attributes\":{\"axis_label\":\"density\",\"bounds\":\"auto\",\"formatter\":{\"id\":\"6068\"},\"major_label_orientation\":\"horizontal\",\"ticker\":{\"id\":\"6048\"}},\"id\":\"6047\",\"type\":\"LinearAxis\"},{\"attributes\":{\"fill_color\":{\"value\":\"darkblue\"},\"line_color\":{\"value\":\"darkblue\"},\"size\":{\"units\":\"screen\",\"value\":6.324555320336759},\"x\":{\"field\":\"density\"},\"y\":{\"field\":\"depth\"}},\"id\":\"6083\",\"type\":\"Scatter\"},{\"attributes\":{\"axis\":{\"id\":\"6047\"},\"grid_line_color\":null,\"ticker\":null},\"id\":\"6050\",\"type\":\"Grid\"},{\"attributes\":{\"fill_alpha\":{\"value\":0.2},\"fill_color\":{\"value\":\"#ff7e0e\"},\"line_alpha\":{\"value\":0.2},\"line_color\":{\"value\":\"#ff7e0e\"},\"size\":{\"units\":\"screen\",\"value\":5.477225575051661},\"x\":{\"field\":\"density\"},\"y\":{\"field\":\"depth\"}},\"id\":\"6093\",\"type\":\"Scatter\"},{\"attributes\":{},\"id\":\"6043\",\"type\":\"LinearScale\"},{\"attributes\":{\"callback\":null,\"renderers\":[{\"id\":\"6078\"},{\"id\":\"6086\"},{\"id\":\"6094\"}],\"tags\":[\"hv_created\"],\"tooltips\":[[\"density\",\"@{density}\"],[\"depth\",\"@{depth}\"]]},\"id\":\"6035\",\"type\":\"HoverTool\"},{\"attributes\":{\"bottom_units\":\"screen\",\"fill_alpha\":0.5,\"fill_color\":\"lightgrey\",\"left_units\":\"screen\",\"level\":\"overlay\",\"line_alpha\":1.0,\"line_color\":\"black\",\"line_dash\":[4,4],\"line_width\":2,\"right_units\":\"screen\",\"top_units\":\"screen\"},\"id\":\"6060\",\"type\":\"BoxAnnotation\"},{\"attributes\":{},\"id\":\"6059\",\"type\":\"ResetTool\"},{\"attributes\":{\"children\":[{\"id\":\"6032\"},{\"id\":\"6038\"},{\"id\":\"6204\"}],\"margin\":[0,0,0,0],\"name\":\"Row13501\",\"tags\":[\"embedded\"]},\"id\":\"6031\",\"type\":\"Row\"},{\"attributes\":{},\"id\":\"6055\",\"type\":\"SaveTool\"},{\"attributes\":{\"overlay\":{\"id\":\"6060\"}},\"id\":\"6058\",\"type\":\"BoxZoomTool\"},{\"attributes\":{},\"id\":\"6089\",\"type\":\"Selection\"},{\"attributes\":{},\"id\":\"6081\",\"type\":\"Selection\"},{\"attributes\":{\"axis_label\":\"depth\",\"bounds\":\"auto\",\"formatter\":{\"id\":\"6070\"},\"major_label_orientation\":\"horizontal\",\"ticker\":{\"id\":\"6052\"}},\"id\":\"6051\",\"type\":\"LinearAxis\"},{\"attributes\":{},\"id\":\"6102\",\"type\":\"UnionRenderers\"}],\"root_ids\":[\"6031\"]},\"title\":\"Bokeh Application\",\"version\":\"2.1.1\"}};\n",
       "  var render_items = [{\"docid\":\"9ee45e82-dfa0-48e9-b253-3f8704dafa58\",\"root_ids\":[\"6031\"],\"roots\":{\"6031\":\"1200d0e1-8f4d-4ce1-b29d-3957814b9f5a\"}}];\n",
       "  root.Bokeh.embed.embed_items_notebook(docs_json, render_items);\n",
       "  }\n",
       "if (root.Bokeh !== undefined) {\n",
       "    embed_document(root);\n",
       "  } else {\n",
       "    var attempts = 0;\n",
       "    var timer = setInterval(function(root) {\n",
       "      if (root.Bokeh !== undefined) {\n",
       "        clearInterval(timer);\n",
       "        embed_document(root);\n",
       "      } else if (document.readyState == \"complete\") {\n",
       "        attempts++;\n",
       "        if (attempts > 100) {\n",
       "          clearInterval(timer);\n",
       "          console.log(\"Bokeh: ERROR: Unable to run BokehJS code because BokehJS library is missing\");\n",
       "        }\n",
       "      }\n",
       "    }, 10, root)\n",
       "  }\n",
       "})(window);</script>"
      ],
      "text/plain": [
       ":Overlay\n",
       "   .Curve.I    :Curve   [density]   (depth)\n",
       "   .Scatter.I  :Scatter   [density]   (depth)\n",
       "   .Scatter.II :Scatter   [density]   (depth)"
      ]
     },
     "execution_count": 63,
     "metadata": {
      "application/vnd.holoviews_exec.v0+json": {
       "id": "6031"
      }
     },
     "output_type": "execute_result"
    }
   ],
   "source": [
    "guyPit.hvplot(x='density', y='depth', width=300, height=500) * guyPit.hvplot.scatter(x='density', y='depth', width=300, height=500, color='darkblue', size=40).opts(title=\"Snow pit from Summit Station\\n Heather Guy, 19 October 2019\") * tmPit.hvplot.scatter(x='density', y='depth')"
   ]
  },
  {
   "cell_type": "code",
   "execution_count": 64,
   "metadata": {},
   "outputs": [
    {
     "data": {
      "text/html": [
       "<div>\n",
       "<style scoped>\n",
       "    .dataframe tbody tr th:only-of-type {\n",
       "        vertical-align: middle;\n",
       "    }\n",
       "\n",
       "    .dataframe tbody tr th {\n",
       "        vertical-align: top;\n",
       "    }\n",
       "\n",
       "    .dataframe thead th {\n",
       "        text-align: right;\n",
       "    }\n",
       "</style>\n",
       "<table border=\"1\" class=\"dataframe\">\n",
       "  <thead>\n",
       "    <tr style=\"text-align: right;\">\n",
       "      <th></th>\n",
       "      <th>depth</th>\n",
       "      <th>density</th>\n",
       "    </tr>\n",
       "  </thead>\n",
       "  <tbody>\n",
       "    <tr>\n",
       "      <th>102</th>\n",
       "      <td>-0.0</td>\n",
       "      <td>383.0</td>\n",
       "    </tr>\n",
       "    <tr>\n",
       "      <th>103</th>\n",
       "      <td>-0.1</td>\n",
       "      <td>362.0</td>\n",
       "    </tr>\n",
       "    <tr>\n",
       "      <th>104</th>\n",
       "      <td>-0.2</td>\n",
       "      <td>395.0</td>\n",
       "    </tr>\n",
       "    <tr>\n",
       "      <th>105</th>\n",
       "      <td>-0.3</td>\n",
       "      <td>412.0</td>\n",
       "    </tr>\n",
       "    <tr>\n",
       "      <th>106</th>\n",
       "      <td>-0.4</td>\n",
       "      <td>439.0</td>\n",
       "    </tr>\n",
       "    <tr>\n",
       "      <th>107</th>\n",
       "      <td>-0.5</td>\n",
       "      <td>391.0</td>\n",
       "    </tr>\n",
       "    <tr>\n",
       "      <th>108</th>\n",
       "      <td>-0.6</td>\n",
       "      <td>379.0</td>\n",
       "    </tr>\n",
       "    <tr>\n",
       "      <th>109</th>\n",
       "      <td>-0.7</td>\n",
       "      <td>381.0</td>\n",
       "    </tr>\n",
       "    <tr>\n",
       "      <th>110</th>\n",
       "      <td>-0.8</td>\n",
       "      <td>329.0</td>\n",
       "    </tr>\n",
       "    <tr>\n",
       "      <th>111</th>\n",
       "      <td>-0.9</td>\n",
       "      <td>350.0</td>\n",
       "    </tr>\n",
       "    <tr>\n",
       "      <th>112</th>\n",
       "      <td>-1.0</td>\n",
       "      <td>392.0</td>\n",
       "    </tr>\n",
       "    <tr>\n",
       "      <th>113</th>\n",
       "      <td>-1.1</td>\n",
       "      <td>373.0</td>\n",
       "    </tr>\n",
       "    <tr>\n",
       "      <th>114</th>\n",
       "      <td>-1.2</td>\n",
       "      <td>361.0</td>\n",
       "    </tr>\n",
       "    <tr>\n",
       "      <th>115</th>\n",
       "      <td>-1.3</td>\n",
       "      <td>378.0</td>\n",
       "    </tr>\n",
       "    <tr>\n",
       "      <th>116</th>\n",
       "      <td>-1.4</td>\n",
       "      <td>343.0</td>\n",
       "    </tr>\n",
       "    <tr>\n",
       "      <th>117</th>\n",
       "      <td>-1.5</td>\n",
       "      <td>308.0</td>\n",
       "    </tr>\n",
       "    <tr>\n",
       "      <th>118</th>\n",
       "      <td>-1.6</td>\n",
       "      <td>312.0</td>\n",
       "    </tr>\n",
       "    <tr>\n",
       "      <th>119</th>\n",
       "      <td>-1.7</td>\n",
       "      <td>354.0</td>\n",
       "    </tr>\n",
       "    <tr>\n",
       "      <th>120</th>\n",
       "      <td>-1.8</td>\n",
       "      <td>366.0</td>\n",
       "    </tr>\n",
       "    <tr>\n",
       "      <th>121</th>\n",
       "      <td>-1.9</td>\n",
       "      <td>346.0</td>\n",
       "    </tr>\n",
       "    <tr>\n",
       "      <th>122</th>\n",
       "      <td>-2.0</td>\n",
       "      <td>344.0</td>\n",
       "    </tr>\n",
       "    <tr>\n",
       "      <th>123</th>\n",
       "      <td>-2.1</td>\n",
       "      <td>300.0</td>\n",
       "    </tr>\n",
       "    <tr>\n",
       "      <th>124</th>\n",
       "      <td>-2.2</td>\n",
       "      <td>353.0</td>\n",
       "    </tr>\n",
       "    <tr>\n",
       "      <th>125</th>\n",
       "      <td>-2.3</td>\n",
       "      <td>403.0</td>\n",
       "    </tr>\n",
       "    <tr>\n",
       "      <th>126</th>\n",
       "      <td>-2.4</td>\n",
       "      <td>377.0</td>\n",
       "    </tr>\n",
       "    <tr>\n",
       "      <th>127</th>\n",
       "      <td>-2.5</td>\n",
       "      <td>349.0</td>\n",
       "    </tr>\n",
       "    <tr>\n",
       "      <th>128</th>\n",
       "      <td>-2.6</td>\n",
       "      <td>347.0</td>\n",
       "    </tr>\n",
       "    <tr>\n",
       "      <th>129</th>\n",
       "      <td>-2.7</td>\n",
       "      <td>382.0</td>\n",
       "    </tr>\n",
       "    <tr>\n",
       "      <th>130</th>\n",
       "      <td>-2.8</td>\n",
       "      <td>338.0</td>\n",
       "    </tr>\n",
       "    <tr>\n",
       "      <th>131</th>\n",
       "      <td>-2.9</td>\n",
       "      <td>320.0</td>\n",
       "    </tr>\n",
       "    <tr>\n",
       "      <th>132</th>\n",
       "      <td>-3.0</td>\n",
       "      <td>366.0</td>\n",
       "    </tr>\n",
       "    <tr>\n",
       "      <th>133</th>\n",
       "      <td>-3.1</td>\n",
       "      <td>340.0</td>\n",
       "    </tr>\n",
       "    <tr>\n",
       "      <th>134</th>\n",
       "      <td>-3.2</td>\n",
       "      <td>323.0</td>\n",
       "    </tr>\n",
       "    <tr>\n",
       "      <th>135</th>\n",
       "      <td>-3.3</td>\n",
       "      <td>315.0</td>\n",
       "    </tr>\n",
       "    <tr>\n",
       "      <th>136</th>\n",
       "      <td>-3.4</td>\n",
       "      <td>283.0</td>\n",
       "    </tr>\n",
       "    <tr>\n",
       "      <th>137</th>\n",
       "      <td>-3.5</td>\n",
       "      <td>342.0</td>\n",
       "    </tr>\n",
       "    <tr>\n",
       "      <th>138</th>\n",
       "      <td>-3.6</td>\n",
       "      <td>354.0</td>\n",
       "    </tr>\n",
       "    <tr>\n",
       "      <th>139</th>\n",
       "      <td>-3.7</td>\n",
       "      <td>378.0</td>\n",
       "    </tr>\n",
       "    <tr>\n",
       "      <th>140</th>\n",
       "      <td>-3.8</td>\n",
       "      <td>322.0</td>\n",
       "    </tr>\n",
       "    <tr>\n",
       "      <th>141</th>\n",
       "      <td>-3.9</td>\n",
       "      <td>325.0</td>\n",
       "    </tr>\n",
       "  </tbody>\n",
       "</table>\n",
       "</div>"
      ],
      "text/plain": [
       "     depth  density\n",
       "102   -0.0    383.0\n",
       "103   -0.1    362.0\n",
       "104   -0.2    395.0\n",
       "105   -0.3    412.0\n",
       "106   -0.4    439.0\n",
       "107   -0.5    391.0\n",
       "108   -0.6    379.0\n",
       "109   -0.7    381.0\n",
       "110   -0.8    329.0\n",
       "111   -0.9    350.0\n",
       "112   -1.0    392.0\n",
       "113   -1.1    373.0\n",
       "114   -1.2    361.0\n",
       "115   -1.3    378.0\n",
       "116   -1.4    343.0\n",
       "117   -1.5    308.0\n",
       "118   -1.6    312.0\n",
       "119   -1.7    354.0\n",
       "120   -1.8    366.0\n",
       "121   -1.9    346.0\n",
       "122   -2.0    344.0\n",
       "123   -2.1    300.0\n",
       "124   -2.2    353.0\n",
       "125   -2.3    403.0\n",
       "126   -2.4    377.0\n",
       "127   -2.5    349.0\n",
       "128   -2.6    347.0\n",
       "129   -2.7    382.0\n",
       "130   -2.8    338.0\n",
       "131   -2.9    320.0\n",
       "132   -3.0    366.0\n",
       "133   -3.1    340.0\n",
       "134   -3.2    323.0\n",
       "135   -3.3    315.0\n",
       "136   -3.4    283.0\n",
       "137   -3.5    342.0\n",
       "138   -3.6    354.0\n",
       "139   -3.7    378.0\n",
       "140   -3.8    322.0\n",
       "141   -3.9    325.0"
      ]
     },
     "execution_count": 64,
     "metadata": {},
     "output_type": "execute_result"
    }
   ],
   "source": [
    "tmPit"
   ]
  },
  {
   "cell_type": "code",
   "execution_count": 68,
   "metadata": {},
   "outputs": [
    {
     "data": {
      "text/plain": [
       "346.46666666666664"
      ]
     },
     "execution_count": 68,
     "metadata": {},
     "output_type": "execute_result"
    }
   ],
   "source": [
    "tmPit.density.iloc[10:].mean()"
   ]
  },
  {
   "cell_type": "markdown",
   "metadata": {},
   "source": [
    "### Strum et al's (1997) equation for thermal conductivity"
   ]
  },
  {
   "cell_type": "code",
   "execution_count": 79,
   "metadata": {},
   "outputs": [],
   "source": [
    "def k_Sturm(densities):\n",
    "    '''\n",
    "    Input:\n",
    "        densities - Snow density values in g cm-3\n",
    "    Output:\n",
    "        k         - Thermal conductivity of snow in W m-1 K-1\n",
    "    '''\n",
    "    import numpy as np\n",
    "    k = []\n",
    "    for density in densities:\n",
    "        if (density >= 156) and (density <=600):\n",
    "            k.append(0.138 - 1.01*density + 3.233*density**2)\n",
    "        elif density < 156:\n",
    "            k.append(0.023 + 0.234*density)\n",
    "        else:\n",
    "            k.append(np.nan)\n",
    "    return np.array(k)"
   ]
  },
  {
   "cell_type": "code",
   "execution_count": 83,
   "metadata": {},
   "outputs": [
    {
     "data": {
      "text/plain": [
       "0.08372423157894737"
      ]
     },
     "execution_count": 83,
     "metadata": {},
     "output_type": "execute_result"
    }
   ],
   "source": [
    "k_Sturm(guyPit.density.values/1000).mean()"
   ]
  },
  {
   "cell_type": "code",
   "execution_count": 78,
   "metadata": {},
   "outputs": [
    {
     "data": {
      "text/plain": [
       "array([0.2583, 0.2306, 0.2528, 0.2278, 0.1722, 0.1528, 0.2417, 0.2833,\n",
       "       0.2917, 0.2222, 0.2806, 0.3667, 0.1833, 0.3   , 0.3278, 0.2167,\n",
       "       0.3694, 0.2444, 0.3083])"
      ]
     },
     "execution_count": 78,
     "metadata": {},
     "output_type": "execute_result"
    }
   ],
   "source": [
    "guyPit.density.values/1000"
   ]
  },
  {
   "cell_type": "code",
   "execution_count": null,
   "metadata": {},
   "outputs": [],
   "source": []
  }
 ],
 "metadata": {
  "file_extension": ".py",
  "kernelspec": {
   "display_name": "Python 3",
   "language": "python",
   "name": "python3"
  },
  "language_info": {
   "codemirror_mode": {
    "name": "ipython",
    "version": 3
   },
   "file_extension": ".py",
   "mimetype": "text/x-python",
   "name": "python",
   "nbconvert_exporter": "python",
   "pygments_lexer": "ipython3",
   "version": "3.7.8"
  },
  "mimetype": "text/x-python",
  "name": "python",
  "npconvert_exporter": "python",
  "pygments_lexer": "ipython3",
  "version": 3
 },
 "nbformat": 4,
 "nbformat_minor": 4
}
